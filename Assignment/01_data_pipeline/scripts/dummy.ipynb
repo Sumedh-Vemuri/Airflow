{
 "cells": [
  {
   "cell_type": "code",
   "execution_count": 1,
   "id": "dccc29b4-67d6-4af3-8bab-0ee296efbdac",
   "metadata": {},
   "outputs": [],
   "source": [
    "import os\n",
    "path = os.getcwd()"
   ]
  },
  {
   "cell_type": "code",
   "execution_count": 2,
   "id": "5a06c4dd-60f1-4dbf-b9ef-b5f8c116e2e6",
   "metadata": {},
   "outputs": [],
   "source": [
    "from utils import *\n",
    "from constants import *"
   ]
  },
  {
   "cell_type": "code",
   "execution_count": 4,
   "id": "971dde7d-e330-4871-b52c-1493ac853d0e",
   "metadata": {},
   "outputs": [
    {
     "name": "stdout",
     "output_type": "stream",
     "text": [
      "Creating Database\n",
      "New DB Created\n"
     ]
    },
    {
     "data": {
      "text/plain": [
       "'DB created'"
      ]
     },
     "execution_count": 4,
     "metadata": {},
     "output_type": "execute_result"
    }
   ],
   "source": [
    "build_dbs(\"utils_output.db\",\"/home/Airflow/Assignment/01_data_pipeline/scripts\")"
   ]
  },
  {
   "cell_type": "code",
   "execution_count": 5,
   "id": "a1b5b3b1-bad3-4724-9f0f-34881e52d5fc",
   "metadata": {},
   "outputs": [],
   "source": [
    "load_data_into_db(\"utils_output.db\", \"/home/Airflow/Assignment/01_data_pipeline/scripts\", \"/home/Airflow/Assignment/01_data_pipeline/scripts/data\")"
   ]
  },
  {
   "cell_type": "code",
   "execution_count": 6,
   "id": "2a4704fd-168d-47a6-97f3-ea9d31d646c4",
   "metadata": {},
   "outputs": [],
   "source": [
    "map_city_tier(\"utils_output.db\",\"/home/Airflow/Assignment/01_data_pipeline/scripts\")"
   ]
  },
  {
   "cell_type": "code",
   "execution_count": 7,
   "id": "ca542cb3-85f1-46e7-ac9a-d5a56880e2b8",
   "metadata": {},
   "outputs": [],
   "source": [
    "map_categorical_vars(\"utils_output.db\",\"/home/Airflow/Assignment/01_data_pipeline/scripts\")"
   ]
  },
  {
   "cell_type": "code",
   "execution_count": null,
   "id": "57ade3fa-9fd6-4456-a776-8b66f5a8e083",
   "metadata": {},
   "outputs": [],
   "source": [
    "import gc\n",
    "gc.collect()"
   ]
  },
  {
   "cell_type": "code",
   "execution_count": null,
   "id": "90596513-ed7e-4f11-aecd-2b51f756e350",
   "metadata": {},
   "outputs": [],
   "source": [
    "interactions_mapping(DB_FILE_NAME, DB_PATH, INTERACTION_MAPPING, INDEX_COLUMNS_TRAINING, INDEX_COLUMNS_INFERENCE, NOT_FEATURES)"
   ]
  }
 ],
 "metadata": {
  "kernelspec": {
   "display_name": "Python 3 (ipykernel)",
   "language": "python",
   "name": "python3"
  },
  "language_info": {
   "codemirror_mode": {
    "name": "ipython",
    "version": 3
   },
   "file_extension": ".py",
   "mimetype": "text/x-python",
   "name": "python",
   "nbconvert_exporter": "python",
   "pygments_lexer": "ipython3",
   "version": "3.8.12"
  }
 },
 "nbformat": 4,
 "nbformat_minor": 5
}
